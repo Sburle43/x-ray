{
  "nbformat": 4,
  "nbformat_minor": 0,
  "metadata": {
    "colab": {
      "provenance": [],
      "collapsed_sections": []
    },
    "kernelspec": {
      "name": "python3",
      "display_name": "Python 3"
    },
    "language_info": {
      "name": "python"
    }
  },
  "cells": [
    {
      "cell_type": "code",
      "metadata": {
        "colab": {
          "base_uri": "https://localhost:8080/"
        },
        "id": "cAn4nOe97P4R",
        "outputId": "e78631a7-27cb-48f3-d272-4bd98db1d54f"
      },
      "source": [
        "from google.colab import drive\n",
        "drive.mount('/content/drive')"
      ],
      "execution_count": null,
      "outputs": [
        {
          "output_type": "stream",
          "name": "stdout",
          "text": [
            "Mounted at /content/drive\n"
          ]
        }
      ]
    },
    {
      "cell_type": "code",
      "metadata": {
        "id": "ttMVmEOz6one",
        "colab": {
          "base_uri": "https://localhost:8080/",
          "height": 35
        },
        "outputId": "743ad732-abbc-414d-8cb5-dcaf7bd397ec"
      },
      "source": [
        "pwd()"
      ],
      "execution_count": null,
      "outputs": [
        {
          "output_type": "execute_result",
          "data": {
            "text/plain": [
              "'/content'"
            ],
            "application/vnd.google.colaboratory.intrinsic+json": {
              "type": "string"
            }
          },
          "metadata": {},
          "execution_count": 2
        }
      ]
    },
    {
      "cell_type": "code",
      "source": [
        "!ls '/content/drive/MyDrive/DAEN690/'"
      ],
      "metadata": {
        "colab": {
          "base_uri": "https://localhost:8080/"
        },
        "id": "KWm2ZZ56zoVa",
        "outputId": "825dc94a-64fe-43cd-e67b-f06a0ee5dd10"
      },
      "execution_count": null,
      "outputs": [
        {
          "output_type": "stream",
          "name": "stdout",
          "text": [
            "train.csv\n"
          ]
        }
      ]
    },
    {
      "cell_type": "code",
      "source": [
        "import pandas as pd\n",
        "df = pd.read_csv ('/content/drive/MyDrive/DAEN690/train.csv')\n",
        "print(df)"
      ],
      "metadata": {
        "colab": {
          "base_uri": "https://localhost:8080/"
        },
        "id": "p-3l5yQc1qaj",
        "outputId": "948dc00b-8fca-4617-e3a8-aa21e48f479b"
      },
      "execution_count": null,
      "outputs": [
        {
          "output_type": "stream",
          "name": "stdout",
          "text": [
            "                               image_id          class_name  class_id rad_id  \\\n",
            "0      50a418190bc3fb1ef1633bf9678929b3          No finding        14    R11   \n",
            "1      21a10246a5ec7af151081d0cd6d65dc9          No finding        14     R7   \n",
            "2      9a5094b2563a1ef3ff50dc5c7ff71345        Cardiomegaly         3    R10   \n",
            "3      051132a778e61a86eb147c7c6f564dfe  Aortic enlargement         0    R10   \n",
            "4      063319de25ce7edb9b1c6b8881290140          No finding        14    R10   \n",
            "...                                 ...                 ...       ...    ...   \n",
            "67909  936fd5cff1c058d39817a08f58b72cae          No finding        14     R1   \n",
            "67910  ca7e72954550eeb610fe22bf0244b7fa          No finding        14     R1   \n",
            "67911  aa17d5312a0fb4a2939436abca7f9579          No finding        14     R8   \n",
            "67912  4b56bc6d22b192f075f13231419dfcc8        Cardiomegaly         3     R8   \n",
            "67913  5e272e3adbdaafb07a7e84a9e62b1a4c          No finding        14    R16   \n",
            "\n",
            "        x_min   y_min   x_max   y_max  \n",
            "0         NaN     NaN     NaN     NaN  \n",
            "1         NaN     NaN     NaN     NaN  \n",
            "2       691.0  1375.0  1653.0  1831.0  \n",
            "3      1264.0   743.0  1611.0  1019.0  \n",
            "4         NaN     NaN     NaN     NaN  \n",
            "...       ...     ...     ...     ...  \n",
            "67909     NaN     NaN     NaN     NaN  \n",
            "67910     NaN     NaN     NaN     NaN  \n",
            "67911     NaN     NaN     NaN     NaN  \n",
            "67912   771.0   979.0  1680.0  1311.0  \n",
            "67913     NaN     NaN     NaN     NaN  \n",
            "\n",
            "[67914 rows x 8 columns]\n"
          ]
        }
      ]
    },
    {
      "cell_type": "code",
      "source": [
        "unique_df = df.drop_duplicates()\n"
      ],
      "metadata": {
        "id": "3J0K71gy8eA5"
      },
      "execution_count": null,
      "outputs": []
    },
    {
      "cell_type": "code",
      "source": [
        "df.shape\n"
      ],
      "metadata": {
        "colab": {
          "base_uri": "https://localhost:8080/"
        },
        "id": "G8H_vixF8yT1",
        "outputId": "1f52457a-9456-4c7d-fb14-2d17885d5648"
      },
      "execution_count": null,
      "outputs": [
        {
          "output_type": "execute_result",
          "data": {
            "text/plain": [
              "(67914, 8)"
            ]
          },
          "metadata": {},
          "execution_count": 23
        }
      ]
    },
    {
      "cell_type": "code",
      "source": [
        "unique_df.shape"
      ],
      "metadata": {
        "colab": {
          "base_uri": "https://localhost:8080/"
        },
        "id": "u6kWt_Zp9sDm",
        "outputId": "1e831737-6d3b-4703-f002-40bba69b9b79"
      },
      "execution_count": null,
      "outputs": [
        {
          "output_type": "execute_result",
          "data": {
            "text/plain": [
              "(67914, 8)"
            ]
          },
          "metadata": {},
          "execution_count": 57
        }
      ]
    },
    {
      "cell_type": "code",
      "source": [
        "df['image_id'].nunique()"
      ],
      "metadata": {
        "colab": {
          "base_uri": "https://localhost:8080/"
        },
        "id": "UqE-cmI0AAJ_",
        "outputId": "0bf2f28f-4760-4212-c719-0560838ba7ff"
      },
      "execution_count": null,
      "outputs": [
        {
          "output_type": "execute_result",
          "data": {
            "text/plain": [
              "15000"
            ]
          },
          "metadata": {},
          "execution_count": 25
        }
      ]
    },
    {
      "cell_type": "code",
      "source": [
        "df[['image_id', 'class_id']].nunique()"
      ],
      "metadata": {
        "colab": {
          "base_uri": "https://localhost:8080/"
        },
        "id": "kaNhwZNHAMci",
        "outputId": "89780944-9a0d-4912-f106-8b1eb844204b"
      },
      "execution_count": null,
      "outputs": [
        {
          "output_type": "execute_result",
          "data": {
            "text/plain": [
              "image_id    15000\n",
              "class_id       15\n",
              "dtype: int64"
            ]
          },
          "metadata": {},
          "execution_count": 28
        }
      ]
    },
    {
      "cell_type": "code",
      "source": [
        "df_plot = df[['image_id', 'class_name']].drop_duplicates()\n",
        "df_plot.count()\n"
      ],
      "metadata": {
        "colab": {
          "base_uri": "https://localhost:8080/"
        },
        "id": "lHdcdTMPA8dO",
        "outputId": "060306e3-162b-47a4-813c-55f93983f5e5"
      },
      "execution_count": null,
      "outputs": [
        {
          "output_type": "execute_result",
          "data": {
            "text/plain": [
              "image_id      25971\n",
              "class_name    25971\n",
              "dtype: int64"
            ]
          },
          "metadata": {},
          "execution_count": 58
        }
      ]
    },
    {
      "cell_type": "code",
      "source": [
        "df_plt = df_plot.groupby(['class_name'])['image_id'].count().reset_index()\n",
        "df_plt.columns = ['Abnormality', 'Count']"
      ],
      "metadata": {
        "id": "0ImQTj7qHSj9"
      },
      "execution_count": null,
      "outputs": []
    },
    {
      "cell_type": "code",
      "source": [
        "#df[['image_id', 'class_id']].drop_duplicates().sort_values('image_id')\n",
        "df_plt\n"
      ],
      "metadata": {
        "colab": {
          "base_uri": "https://localhost:8080/",
          "height": 520
        },
        "id": "YRn83VnYDP51",
        "outputId": "a10c9863-4f53-4c03-e03a-97048049c8b0"
      },
      "execution_count": null,
      "outputs": [
        {
          "output_type": "execute_result",
          "data": {
            "text/plain": [
              "           Abnormality  Count\n",
              "0   Aortic enlargement   3067\n",
              "1          Atelectasis    186\n",
              "2        Calcification    452\n",
              "3         Cardiomegaly   2300\n",
              "4        Consolidation    353\n",
              "5                  ILD    386\n",
              "6         Infiltration    613\n",
              "7         Lung Opacity   1322\n",
              "8           No finding  10606\n",
              "9          Nodule/Mass    826\n",
              "10        Other lesion   1134\n",
              "11    Pleural effusion   1032\n",
              "12  Pleural thickening   1981\n",
              "13        Pneumothorax     96\n",
              "14  Pulmonary fibrosis   1617"
            ],
            "text/html": [
              "\n",
              "  <div id=\"df-84bab659-887b-4ff0-8ff8-68b70acd5ae7\">\n",
              "    <div class=\"colab-df-container\">\n",
              "      <div>\n",
              "<style scoped>\n",
              "    .dataframe tbody tr th:only-of-type {\n",
              "        vertical-align: middle;\n",
              "    }\n",
              "\n",
              "    .dataframe tbody tr th {\n",
              "        vertical-align: top;\n",
              "    }\n",
              "\n",
              "    .dataframe thead th {\n",
              "        text-align: right;\n",
              "    }\n",
              "</style>\n",
              "<table border=\"1\" class=\"dataframe\">\n",
              "  <thead>\n",
              "    <tr style=\"text-align: right;\">\n",
              "      <th></th>\n",
              "      <th>Abnormality</th>\n",
              "      <th>Count</th>\n",
              "    </tr>\n",
              "  </thead>\n",
              "  <tbody>\n",
              "    <tr>\n",
              "      <th>0</th>\n",
              "      <td>Aortic enlargement</td>\n",
              "      <td>3067</td>\n",
              "    </tr>\n",
              "    <tr>\n",
              "      <th>1</th>\n",
              "      <td>Atelectasis</td>\n",
              "      <td>186</td>\n",
              "    </tr>\n",
              "    <tr>\n",
              "      <th>2</th>\n",
              "      <td>Calcification</td>\n",
              "      <td>452</td>\n",
              "    </tr>\n",
              "    <tr>\n",
              "      <th>3</th>\n",
              "      <td>Cardiomegaly</td>\n",
              "      <td>2300</td>\n",
              "    </tr>\n",
              "    <tr>\n",
              "      <th>4</th>\n",
              "      <td>Consolidation</td>\n",
              "      <td>353</td>\n",
              "    </tr>\n",
              "    <tr>\n",
              "      <th>5</th>\n",
              "      <td>ILD</td>\n",
              "      <td>386</td>\n",
              "    </tr>\n",
              "    <tr>\n",
              "      <th>6</th>\n",
              "      <td>Infiltration</td>\n",
              "      <td>613</td>\n",
              "    </tr>\n",
              "    <tr>\n",
              "      <th>7</th>\n",
              "      <td>Lung Opacity</td>\n",
              "      <td>1322</td>\n",
              "    </tr>\n",
              "    <tr>\n",
              "      <th>8</th>\n",
              "      <td>No finding</td>\n",
              "      <td>10606</td>\n",
              "    </tr>\n",
              "    <tr>\n",
              "      <th>9</th>\n",
              "      <td>Nodule/Mass</td>\n",
              "      <td>826</td>\n",
              "    </tr>\n",
              "    <tr>\n",
              "      <th>10</th>\n",
              "      <td>Other lesion</td>\n",
              "      <td>1134</td>\n",
              "    </tr>\n",
              "    <tr>\n",
              "      <th>11</th>\n",
              "      <td>Pleural effusion</td>\n",
              "      <td>1032</td>\n",
              "    </tr>\n",
              "    <tr>\n",
              "      <th>12</th>\n",
              "      <td>Pleural thickening</td>\n",
              "      <td>1981</td>\n",
              "    </tr>\n",
              "    <tr>\n",
              "      <th>13</th>\n",
              "      <td>Pneumothorax</td>\n",
              "      <td>96</td>\n",
              "    </tr>\n",
              "    <tr>\n",
              "      <th>14</th>\n",
              "      <td>Pulmonary fibrosis</td>\n",
              "      <td>1617</td>\n",
              "    </tr>\n",
              "  </tbody>\n",
              "</table>\n",
              "</div>\n",
              "      <button class=\"colab-df-convert\" onclick=\"convertToInteractive('df-84bab659-887b-4ff0-8ff8-68b70acd5ae7')\"\n",
              "              title=\"Convert this dataframe to an interactive table.\"\n",
              "              style=\"display:none;\">\n",
              "        \n",
              "  <svg xmlns=\"http://www.w3.org/2000/svg\" height=\"24px\"viewBox=\"0 0 24 24\"\n",
              "       width=\"24px\">\n",
              "    <path d=\"M0 0h24v24H0V0z\" fill=\"none\"/>\n",
              "    <path d=\"M18.56 5.44l.94 2.06.94-2.06 2.06-.94-2.06-.94-.94-2.06-.94 2.06-2.06.94zm-11 1L8.5 8.5l.94-2.06 2.06-.94-2.06-.94L8.5 2.5l-.94 2.06-2.06.94zm10 10l.94 2.06.94-2.06 2.06-.94-2.06-.94-.94-2.06-.94 2.06-2.06.94z\"/><path d=\"M17.41 7.96l-1.37-1.37c-.4-.4-.92-.59-1.43-.59-.52 0-1.04.2-1.43.59L10.3 9.45l-7.72 7.72c-.78.78-.78 2.05 0 2.83L4 21.41c.39.39.9.59 1.41.59.51 0 1.02-.2 1.41-.59l7.78-7.78 2.81-2.81c.8-.78.8-2.07 0-2.86zM5.41 20L4 18.59l7.72-7.72 1.47 1.35L5.41 20z\"/>\n",
              "  </svg>\n",
              "      </button>\n",
              "      \n",
              "  <style>\n",
              "    .colab-df-container {\n",
              "      display:flex;\n",
              "      flex-wrap:wrap;\n",
              "      gap: 12px;\n",
              "    }\n",
              "\n",
              "    .colab-df-convert {\n",
              "      background-color: #E8F0FE;\n",
              "      border: none;\n",
              "      border-radius: 50%;\n",
              "      cursor: pointer;\n",
              "      display: none;\n",
              "      fill: #1967D2;\n",
              "      height: 32px;\n",
              "      padding: 0 0 0 0;\n",
              "      width: 32px;\n",
              "    }\n",
              "\n",
              "    .colab-df-convert:hover {\n",
              "      background-color: #E2EBFA;\n",
              "      box-shadow: 0px 1px 2px rgba(60, 64, 67, 0.3), 0px 1px 3px 1px rgba(60, 64, 67, 0.15);\n",
              "      fill: #174EA6;\n",
              "    }\n",
              "\n",
              "    [theme=dark] .colab-df-convert {\n",
              "      background-color: #3B4455;\n",
              "      fill: #D2E3FC;\n",
              "    }\n",
              "\n",
              "    [theme=dark] .colab-df-convert:hover {\n",
              "      background-color: #434B5C;\n",
              "      box-shadow: 0px 1px 3px 1px rgba(0, 0, 0, 0.15);\n",
              "      filter: drop-shadow(0px 1px 2px rgba(0, 0, 0, 0.3));\n",
              "      fill: #FFFFFF;\n",
              "    }\n",
              "  </style>\n",
              "\n",
              "      <script>\n",
              "        const buttonEl =\n",
              "          document.querySelector('#df-84bab659-887b-4ff0-8ff8-68b70acd5ae7 button.colab-df-convert');\n",
              "        buttonEl.style.display =\n",
              "          google.colab.kernel.accessAllowed ? 'block' : 'none';\n",
              "\n",
              "        async function convertToInteractive(key) {\n",
              "          const element = document.querySelector('#df-84bab659-887b-4ff0-8ff8-68b70acd5ae7');\n",
              "          const dataTable =\n",
              "            await google.colab.kernel.invokeFunction('convertToInteractive',\n",
              "                                                     [key], {});\n",
              "          if (!dataTable) return;\n",
              "\n",
              "          const docLinkHtml = 'Like what you see? Visit the ' +\n",
              "            '<a target=\"_blank\" href=https://colab.research.google.com/notebooks/data_table.ipynb>data table notebook</a>'\n",
              "            + ' to learn more about interactive tables.';\n",
              "          element.innerHTML = '';\n",
              "          dataTable['output_type'] = 'display_data';\n",
              "          await google.colab.output.renderOutput(dataTable, element);\n",
              "          const docLink = document.createElement('div');\n",
              "          docLink.innerHTML = docLinkHtml;\n",
              "          element.appendChild(docLink);\n",
              "        }\n",
              "      </script>\n",
              "    </div>\n",
              "  </div>\n",
              "  "
            ]
          },
          "metadata": {},
          "execution_count": 66
        }
      ]
    },
    {
      "cell_type": "code",
      "source": [
        "df.unique()"
      ],
      "metadata": {
        "id": "goN8vBzT-egV"
      },
      "execution_count": null,
      "outputs": []
    },
    {
      "cell_type": "code",
      "source": [
        "df.groupby(df.columns.tolist(), as_index=False).size()"
      ],
      "metadata": {
        "colab": {
          "base_uri": "https://localhost:8080/",
          "height": 424
        },
        "id": "NTahdml376bV",
        "outputId": "ec4de3bb-e34d-4830-a93c-939aa679f4de"
      },
      "execution_count": null,
      "outputs": [
        {
          "output_type": "execute_result",
          "data": {
            "text/plain": [
              "                               image_id          class_name  class_id rad_id  \\\n",
              "0      0005e8e3701dfb1dd93d53e2ff537b6e       Consolidation         4     R8   \n",
              "1      0005e8e3701dfb1dd93d53e2ff537b6e        Infiltration         6    R10   \n",
              "2      0005e8e3701dfb1dd93d53e2ff537b6e        Lung Opacity         7    R10   \n",
              "3      0005e8e3701dfb1dd93d53e2ff537b6e        Lung Opacity         7     R9   \n",
              "4      0005e8e3701dfb1dd93d53e2ff537b6e         Nodule/Mass         8     R8   \n",
              "...                                 ...                 ...       ...    ...   \n",
              "36091  ffe6f9fe648a7ec29a50feb92d6c15a4        Cardiomegaly         3     R9   \n",
              "36092  ffe6f9fe648a7ec29a50feb92d6c15a4        Other lesion         9    R10   \n",
              "36093  ffeffc54594debf3716d6fcd2402a99f  Aortic enlargement         0    R10   \n",
              "36094  ffeffc54594debf3716d6fcd2402a99f  Aortic enlargement         0     R8   \n",
              "36095  ffeffc54594debf3716d6fcd2402a99f  Aortic enlargement         0     R9   \n",
              "\n",
              "        x_min   y_min   x_max   y_max  size  \n",
              "0       932.0   567.0  1197.0   896.0     1  \n",
              "1       900.0   587.0  1205.0   888.0     1  \n",
              "2       900.0   587.0  1205.0   888.0     1  \n",
              "3       905.0   583.0  1203.0   890.0     1  \n",
              "4       932.0   567.0  1197.0   896.0     1  \n",
              "...       ...     ...     ...     ...   ...  \n",
              "36091  1144.0  1851.0  2297.0  2384.0     1  \n",
              "36092   563.0  1148.0   593.0  1185.0     1  \n",
              "36093  1302.0   754.0  1570.0  1146.0     1  \n",
              "36094  1224.0   733.0  1560.0  1176.0     1  \n",
              "36095  1239.0   781.0  1571.0  1144.0     1  \n",
              "\n",
              "[36096 rows x 9 columns]"
            ],
            "text/html": [
              "\n",
              "  <div id=\"df-7aebea8a-146f-4f1d-8844-fed7e60cef06\">\n",
              "    <div class=\"colab-df-container\">\n",
              "      <div>\n",
              "<style scoped>\n",
              "    .dataframe tbody tr th:only-of-type {\n",
              "        vertical-align: middle;\n",
              "    }\n",
              "\n",
              "    .dataframe tbody tr th {\n",
              "        vertical-align: top;\n",
              "    }\n",
              "\n",
              "    .dataframe thead th {\n",
              "        text-align: right;\n",
              "    }\n",
              "</style>\n",
              "<table border=\"1\" class=\"dataframe\">\n",
              "  <thead>\n",
              "    <tr style=\"text-align: right;\">\n",
              "      <th></th>\n",
              "      <th>image_id</th>\n",
              "      <th>class_name</th>\n",
              "      <th>class_id</th>\n",
              "      <th>rad_id</th>\n",
              "      <th>x_min</th>\n",
              "      <th>y_min</th>\n",
              "      <th>x_max</th>\n",
              "      <th>y_max</th>\n",
              "      <th>size</th>\n",
              "    </tr>\n",
              "  </thead>\n",
              "  <tbody>\n",
              "    <tr>\n",
              "      <th>0</th>\n",
              "      <td>0005e8e3701dfb1dd93d53e2ff537b6e</td>\n",
              "      <td>Consolidation</td>\n",
              "      <td>4</td>\n",
              "      <td>R8</td>\n",
              "      <td>932.0</td>\n",
              "      <td>567.0</td>\n",
              "      <td>1197.0</td>\n",
              "      <td>896.0</td>\n",
              "      <td>1</td>\n",
              "    </tr>\n",
              "    <tr>\n",
              "      <th>1</th>\n",
              "      <td>0005e8e3701dfb1dd93d53e2ff537b6e</td>\n",
              "      <td>Infiltration</td>\n",
              "      <td>6</td>\n",
              "      <td>R10</td>\n",
              "      <td>900.0</td>\n",
              "      <td>587.0</td>\n",
              "      <td>1205.0</td>\n",
              "      <td>888.0</td>\n",
              "      <td>1</td>\n",
              "    </tr>\n",
              "    <tr>\n",
              "      <th>2</th>\n",
              "      <td>0005e8e3701dfb1dd93d53e2ff537b6e</td>\n",
              "      <td>Lung Opacity</td>\n",
              "      <td>7</td>\n",
              "      <td>R10</td>\n",
              "      <td>900.0</td>\n",
              "      <td>587.0</td>\n",
              "      <td>1205.0</td>\n",
              "      <td>888.0</td>\n",
              "      <td>1</td>\n",
              "    </tr>\n",
              "    <tr>\n",
              "      <th>3</th>\n",
              "      <td>0005e8e3701dfb1dd93d53e2ff537b6e</td>\n",
              "      <td>Lung Opacity</td>\n",
              "      <td>7</td>\n",
              "      <td>R9</td>\n",
              "      <td>905.0</td>\n",
              "      <td>583.0</td>\n",
              "      <td>1203.0</td>\n",
              "      <td>890.0</td>\n",
              "      <td>1</td>\n",
              "    </tr>\n",
              "    <tr>\n",
              "      <th>4</th>\n",
              "      <td>0005e8e3701dfb1dd93d53e2ff537b6e</td>\n",
              "      <td>Nodule/Mass</td>\n",
              "      <td>8</td>\n",
              "      <td>R8</td>\n",
              "      <td>932.0</td>\n",
              "      <td>567.0</td>\n",
              "      <td>1197.0</td>\n",
              "      <td>896.0</td>\n",
              "      <td>1</td>\n",
              "    </tr>\n",
              "    <tr>\n",
              "      <th>...</th>\n",
              "      <td>...</td>\n",
              "      <td>...</td>\n",
              "      <td>...</td>\n",
              "      <td>...</td>\n",
              "      <td>...</td>\n",
              "      <td>...</td>\n",
              "      <td>...</td>\n",
              "      <td>...</td>\n",
              "      <td>...</td>\n",
              "    </tr>\n",
              "    <tr>\n",
              "      <th>36091</th>\n",
              "      <td>ffe6f9fe648a7ec29a50feb92d6c15a4</td>\n",
              "      <td>Cardiomegaly</td>\n",
              "      <td>3</td>\n",
              "      <td>R9</td>\n",
              "      <td>1144.0</td>\n",
              "      <td>1851.0</td>\n",
              "      <td>2297.0</td>\n",
              "      <td>2384.0</td>\n",
              "      <td>1</td>\n",
              "    </tr>\n",
              "    <tr>\n",
              "      <th>36092</th>\n",
              "      <td>ffe6f9fe648a7ec29a50feb92d6c15a4</td>\n",
              "      <td>Other lesion</td>\n",
              "      <td>9</td>\n",
              "      <td>R10</td>\n",
              "      <td>563.0</td>\n",
              "      <td>1148.0</td>\n",
              "      <td>593.0</td>\n",
              "      <td>1185.0</td>\n",
              "      <td>1</td>\n",
              "    </tr>\n",
              "    <tr>\n",
              "      <th>36093</th>\n",
              "      <td>ffeffc54594debf3716d6fcd2402a99f</td>\n",
              "      <td>Aortic enlargement</td>\n",
              "      <td>0</td>\n",
              "      <td>R10</td>\n",
              "      <td>1302.0</td>\n",
              "      <td>754.0</td>\n",
              "      <td>1570.0</td>\n",
              "      <td>1146.0</td>\n",
              "      <td>1</td>\n",
              "    </tr>\n",
              "    <tr>\n",
              "      <th>36094</th>\n",
              "      <td>ffeffc54594debf3716d6fcd2402a99f</td>\n",
              "      <td>Aortic enlargement</td>\n",
              "      <td>0</td>\n",
              "      <td>R8</td>\n",
              "      <td>1224.0</td>\n",
              "      <td>733.0</td>\n",
              "      <td>1560.0</td>\n",
              "      <td>1176.0</td>\n",
              "      <td>1</td>\n",
              "    </tr>\n",
              "    <tr>\n",
              "      <th>36095</th>\n",
              "      <td>ffeffc54594debf3716d6fcd2402a99f</td>\n",
              "      <td>Aortic enlargement</td>\n",
              "      <td>0</td>\n",
              "      <td>R9</td>\n",
              "      <td>1239.0</td>\n",
              "      <td>781.0</td>\n",
              "      <td>1571.0</td>\n",
              "      <td>1144.0</td>\n",
              "      <td>1</td>\n",
              "    </tr>\n",
              "  </tbody>\n",
              "</table>\n",
              "<p>36096 rows × 9 columns</p>\n",
              "</div>\n",
              "      <button class=\"colab-df-convert\" onclick=\"convertToInteractive('df-7aebea8a-146f-4f1d-8844-fed7e60cef06')\"\n",
              "              title=\"Convert this dataframe to an interactive table.\"\n",
              "              style=\"display:none;\">\n",
              "        \n",
              "  <svg xmlns=\"http://www.w3.org/2000/svg\" height=\"24px\"viewBox=\"0 0 24 24\"\n",
              "       width=\"24px\">\n",
              "    <path d=\"M0 0h24v24H0V0z\" fill=\"none\"/>\n",
              "    <path d=\"M18.56 5.44l.94 2.06.94-2.06 2.06-.94-2.06-.94-.94-2.06-.94 2.06-2.06.94zm-11 1L8.5 8.5l.94-2.06 2.06-.94-2.06-.94L8.5 2.5l-.94 2.06-2.06.94zm10 10l.94 2.06.94-2.06 2.06-.94-2.06-.94-.94-2.06-.94 2.06-2.06.94z\"/><path d=\"M17.41 7.96l-1.37-1.37c-.4-.4-.92-.59-1.43-.59-.52 0-1.04.2-1.43.59L10.3 9.45l-7.72 7.72c-.78.78-.78 2.05 0 2.83L4 21.41c.39.39.9.59 1.41.59.51 0 1.02-.2 1.41-.59l7.78-7.78 2.81-2.81c.8-.78.8-2.07 0-2.86zM5.41 20L4 18.59l7.72-7.72 1.47 1.35L5.41 20z\"/>\n",
              "  </svg>\n",
              "      </button>\n",
              "      \n",
              "  <style>\n",
              "    .colab-df-container {\n",
              "      display:flex;\n",
              "      flex-wrap:wrap;\n",
              "      gap: 12px;\n",
              "    }\n",
              "\n",
              "    .colab-df-convert {\n",
              "      background-color: #E8F0FE;\n",
              "      border: none;\n",
              "      border-radius: 50%;\n",
              "      cursor: pointer;\n",
              "      display: none;\n",
              "      fill: #1967D2;\n",
              "      height: 32px;\n",
              "      padding: 0 0 0 0;\n",
              "      width: 32px;\n",
              "    }\n",
              "\n",
              "    .colab-df-convert:hover {\n",
              "      background-color: #E2EBFA;\n",
              "      box-shadow: 0px 1px 2px rgba(60, 64, 67, 0.3), 0px 1px 3px 1px rgba(60, 64, 67, 0.15);\n",
              "      fill: #174EA6;\n",
              "    }\n",
              "\n",
              "    [theme=dark] .colab-df-convert {\n",
              "      background-color: #3B4455;\n",
              "      fill: #D2E3FC;\n",
              "    }\n",
              "\n",
              "    [theme=dark] .colab-df-convert:hover {\n",
              "      background-color: #434B5C;\n",
              "      box-shadow: 0px 1px 3px 1px rgba(0, 0, 0, 0.15);\n",
              "      filter: drop-shadow(0px 1px 2px rgba(0, 0, 0, 0.3));\n",
              "      fill: #FFFFFF;\n",
              "    }\n",
              "  </style>\n",
              "\n",
              "      <script>\n",
              "        const buttonEl =\n",
              "          document.querySelector('#df-7aebea8a-146f-4f1d-8844-fed7e60cef06 button.colab-df-convert');\n",
              "        buttonEl.style.display =\n",
              "          google.colab.kernel.accessAllowed ? 'block' : 'none';\n",
              "\n",
              "        async function convertToInteractive(key) {\n",
              "          const element = document.querySelector('#df-7aebea8a-146f-4f1d-8844-fed7e60cef06');\n",
              "          const dataTable =\n",
              "            await google.colab.kernel.invokeFunction('convertToInteractive',\n",
              "                                                     [key], {});\n",
              "          if (!dataTable) return;\n",
              "\n",
              "          const docLinkHtml = 'Like what you see? Visit the ' +\n",
              "            '<a target=\"_blank\" href=https://colab.research.google.com/notebooks/data_table.ipynb>data table notebook</a>'\n",
              "            + ' to learn more about interactive tables.';\n",
              "          element.innerHTML = '';\n",
              "          dataTable['output_type'] = 'display_data';\n",
              "          await google.colab.output.renderOutput(dataTable, element);\n",
              "          const docLink = document.createElement('div');\n",
              "          docLink.innerHTML = docLinkHtml;\n",
              "          element.appendChild(docLink);\n",
              "        }\n",
              "      </script>\n",
              "    </div>\n",
              "  </div>\n",
              "  "
            ]
          },
          "metadata": {},
          "execution_count": 15
        }
      ]
    },
    {
      "cell_type": "code",
      "source": [
        "import matplotlib.pyplot as plt\n",
        "plt.figure(figsize=(10,6))\n",
        "plt.bar(df_plt['Abnormality'], df_plt['Count'])\n",
        "#plt.show()\n",
        "\n",
        "# Rotate the x-labels by 30 degrees, and keep the text aligned horizontally\n",
        "plt.xticks(rotation=90, horizontalalignment=\"center\")\n",
        "plt.title(\"Chest XRay Training Data (15000 Images - 25971 unique image/label combinations)\")\n",
        "plt.xlabel(\"Lung Abnormality\")\n",
        "plt.ylabel(\"Training data labels\")\n",
        "plt.show()"
      ],
      "metadata": {
        "colab": {
          "base_uri": "https://localhost:8080/",
          "height": 490
        },
        "id": "xvWkb6JuFw28",
        "outputId": "73efac6e-93da-4e4b-9233-9cfe97abdb8f"
      },
      "execution_count": null,
      "outputs": [
        {
          "output_type": "display_data",
          "data": {
            "text/plain": [
              "<Figure size 720x432 with 1 Axes>"
            ],
            "image/png": "[encoded data removed]"
          },
          "metadata": {
            "needs_background": "light"
          }
        }
      ]
    }
  ]
}